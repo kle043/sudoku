{
 "cells": [
  {
   "cell_type": "code",
   "execution_count": 1,
   "metadata": {},
   "outputs": [
    {
     "data": {
      "text/plain": [
       "mc_solve (generic function with 1 method)"
      ]
     },
     "execution_count": 1,
     "metadata": {},
     "output_type": "execute_result"
    }
   ],
   "source": [
    "include(\"sudoku.jl\")"
   ]
  },
  {
   "cell_type": "code",
   "execution_count": 2,
   "metadata": {},
   "outputs": [
    {
     "data": {
      "text/plain": [
       "@bash_str (macro with 1 method)"
      ]
     },
     "execution_count": 2,
     "metadata": {},
     "output_type": "execute_result"
    }
   ],
   "source": [
    "macro bash_str(s) open(`bash`,\"w\",stdout) do io; print(io, s); end; end"
   ]
  },
  {
   "cell_type": "code",
   "execution_count": 3,
   "metadata": {},
   "outputs": [
    {
     "name": "stdout",
     "output_type": "stream",
     "text": [
      "LICENSE\n",
      "README.md\n",
      "sudoku.ipynb\n",
      "sudoku.jl\n"
     ]
    }
   ],
   "source": [
    "bash\"\"\"\n",
    "ls\n",
    "\"\"\""
   ]
  },
  {
   "cell_type": "code",
   "execution_count": 4,
   "metadata": {},
   "outputs": [
    {
     "data": {
      "text/plain": [
       "9×9 Array{Int64,2}:\n",
       " 0  0  0  0  0  0  0  9  3\n",
       " 0  0  0  5  0  0  0  0  7\n",
       " 0  0  8  0  7  2  0  0  5\n",
       " 0  0  0  8  3  0  0  7  0\n",
       " 0  0  5  0  0  0  6  0  0\n",
       " 0  2  0  0  4  7  0  0  0\n",
       " 8  0  0  2  9  0  1  0  0\n",
       " 1  0  0  0  0  8  0  0  0\n",
       " 2  4  0  0  0  0  0  0  0"
      ]
     },
     "execution_count": 4,
     "metadata": {},
     "output_type": "execute_result"
    }
   ],
   "source": [
    "puzzle = [0  0  0  0  0  0  0  9  3;\n",
    "          0  0  0  5  0  0  0  0  7;\n",
    "          0  0  8  0  7  2  0  0  5;\n",
    "          0  0  0  8  3  0  0  7  0;\n",
    "          0  0  5  0  0  0  6  0  0;\n",
    "          0  2  0  0  4  7  0  0  0;\n",
    "          8  0  0  2  9  0  1  0  0;\n",
    "          1  0  0  0  0  8  0  0  0;\n",
    "          2  4  0  0  0  0  0  0  0;]"
   ]
  },
  {
   "cell_type": "code",
   "execution_count": 5,
   "metadata": {},
   "outputs": [
    {
     "ename": "MethodError",
     "evalue": "MethodError: no method matching remotecall(::getfield(Main, Symbol(\"##11#13\")){Indices,Float64,Int64,SudokuState}, ::Symbol)\nClosest candidates are:\n  remotecall(::Any, !Matched::Distributed.LocalProcess, !Matched::Any...; kwargs...) at /build/julia-WtZlcm/julia-1.0.4+dfsg/usr/share/julia/stdlib/v1.0/Distributed/src/remotecall.jl:343\n  remotecall(::Any, !Matched::Distributed.Worker, !Matched::Any...; kwargs...) at /build/julia-WtZlcm/julia-1.0.4+dfsg/usr/share/julia/stdlib/v1.0/Distributed/src/remotecall.jl:349\n  remotecall(::Any, !Matched::Integer, !Matched::Any...; kwargs...) at /build/julia-WtZlcm/julia-1.0.4+dfsg/usr/share/julia/stdlib/v1.0/Distributed/src/remotecall.jl:361\n  ...",
     "output_type": "error",
     "traceback": [
      "MethodError: no method matching remotecall(::getfield(Main, Symbol(\"##11#13\")){Indices,Float64,Int64,SudokuState}, ::Symbol)\nClosest candidates are:\n  remotecall(::Any, !Matched::Distributed.LocalProcess, !Matched::Any...; kwargs...) at /build/julia-WtZlcm/julia-1.0.4+dfsg/usr/share/julia/stdlib/v1.0/Distributed/src/remotecall.jl:343\n  remotecall(::Any, !Matched::Distributed.Worker, !Matched::Any...; kwargs...) at /build/julia-WtZlcm/julia-1.0.4+dfsg/usr/share/julia/stdlib/v1.0/Distributed/src/remotecall.jl:349\n  remotecall(::Any, !Matched::Integer, !Matched::Any...; kwargs...) at /build/julia-WtZlcm/julia-1.0.4+dfsg/usr/share/julia/stdlib/v1.0/Distributed/src/remotecall.jl:361\n  ...",
      "",
      "Stacktrace:",
      " [1] spawnat(::Symbol, ::Function) at /build/julia-WtZlcm/julia-1.0.4+dfsg/usr/share/julia/stdlib/v1.0/Distributed/src/macros.jl:15",
      " [2] macro expansion at /build/julia-WtZlcm/julia-1.0.4+dfsg/usr/share/julia/stdlib/v1.0/Distributed/src/macros.jl:76 [inlined]",
      " [3] distributed_run(::Array{Any,1}, ::Indices, ::Float64, ::Int64) at /home/kimle/work/sudoku/sudoku.jl:99",
      " [4] mc_solve(::Array{Int64,2}, ::Float64, ::Int64) at /home/kimle/work/sudoku/sudoku.jl:136",
      " [5] top-level scope at util.jl:156",
      " [6] top-level scope at In[5]:1"
     ]
    }
   ],
   "source": [
    "@time states = mc_solve(puzzle, 0.35, 100)"
   ]
  },
  {
   "cell_type": "code",
   "execution_count": null,
   "metadata": {},
   "outputs": [],
   "source": [
    "puzzle = [0  0  1  0  0  0  0  0  5;\n",
    "          0  5  0  0  0  9  0  6  3;\n",
    "          0  4  0  5  2  0  0  0  0;\n",
    "          0  0  0  0  5  0  7  0  0;\n",
    "          0  0  0  1  6  2  0  0  0;\n",
    "          0  0  9  0  3  0  0  0  0;\n",
    "          0  0  0  0  1  3  0  2  0;\n",
    "          8  9  0  2  0  0  0  7  0;\n",
    "          2  0  0  0  0  0  8  0  0;]"
   ]
  },
  {
   "cell_type": "code",
   "execution_count": null,
   "metadata": {},
   "outputs": [],
   "source": [
    "@time states = mc_solve(puzzle, 0.35, 100)"
   ]
  },
  {
   "cell_type": "code",
   "execution_count": null,
   "metadata": {},
   "outputs": [],
   "source": [
    "states[end].puzzle"
   ]
  },
  {
   "cell_type": "code",
   "execution_count": null,
   "metadata": {},
   "outputs": [],
   "source": [
    "puzzle = [8  0  0  0  0  0  0  0  0;\n",
    "          0  0  3  6  0  0  0  0  0;\n",
    "          0  7  0  0  9  0  2  0  0;\n",
    "          0  5  0  0  0  7  0  0  0;\n",
    "          0  0  0  0  4  5  7  0  0;\n",
    "          0  0  0  1  0  0  0  3  0;\n",
    "          0  0  1  0  0  0  0  6  8;\n",
    "          0  0  8  5  0  0  0  1  0;\n",
    "          0  9  0  0  0  0  4  0  0;]"
   ]
  },
  {
   "cell_type": "code",
   "execution_count": null,
   "metadata": {},
   "outputs": [],
   "source": [
    "@time states = mc_solve(puzzle, 0.35, 125)"
   ]
  },
  {
   "cell_type": "code",
   "execution_count": null,
   "metadata": {},
   "outputs": [],
   "source": [
    "states[end].puzzle"
   ]
  },
  {
   "cell_type": "code",
   "execution_count": null,
   "metadata": {},
   "outputs": [],
   "source": [
    "struct ast\n",
    "    b\n",
    "    c\n",
    "end"
   ]
  },
  {
   "cell_type": "code",
   "execution_count": null,
   "metadata": {},
   "outputs": [],
   "source": [
    "a = [ast(1,2), ast(3,4)]"
   ]
  },
  {
   "cell_type": "code",
   "execution_count": null,
   "metadata": {},
   "outputs": [],
   "source": [
    "min(a, )"
   ]
  },
  {
   "cell_type": "code",
   "execution_count": null,
   "metadata": {},
   "outputs": [],
   "source": []
  }
 ],
 "metadata": {
  "kernelspec": {
   "display_name": "Julia 1.0.4",
   "language": "julia",
   "name": "julia-1.0"
  },
  "language_info": {
   "file_extension": ".jl",
   "mimetype": "application/julia",
   "name": "julia",
   "version": "1.0.4"
  }
 },
 "nbformat": 4,
 "nbformat_minor": 2
}
