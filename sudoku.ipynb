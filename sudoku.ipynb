{
 "cells": [
  {
   "cell_type": "code",
   "execution_count": 1,
   "metadata": {},
   "outputs": [
    {
     "data": {
      "text/plain": [
       "mc_solve (generic function with 1 method)"
      ]
     },
     "execution_count": 1,
     "metadata": {},
     "output_type": "execute_result"
    }
   ],
   "source": [
    "include(\"sudoku.jl\")"
   ]
  },
  {
   "cell_type": "code",
   "execution_count": 2,
   "metadata": {},
   "outputs": [
    {
     "data": {
      "text/plain": [
       "@bash_str (macro with 1 method)"
      ]
     },
     "execution_count": 2,
     "metadata": {},
     "output_type": "execute_result"
    }
   ],
   "source": [
    "macro bash_str(s) open(`bash`,\"w\",stdout) do io; print(io, s); end; end"
   ]
  },
  {
   "cell_type": "code",
   "execution_count": 3,
   "metadata": {},
   "outputs": [
    {
     "name": "stdout",
     "output_type": "stream",
     "text": [
      "LICENSE\n",
      "README.md\n",
      "sudoku.ipynb\n",
      "sudoku.jl\n"
     ]
    }
   ],
   "source": [
    "bash\"\"\"\n",
    "ls\n",
    "\"\"\""
   ]
  },
  {
   "cell_type": "code",
   "execution_count": 4,
   "metadata": {},
   "outputs": [
    {
     "data": {
      "text/plain": [
       "9×9 Array{Int64,2}:\n",
       " 0  0  0  0  0  0  0  9  3\n",
       " 0  0  0  5  0  0  0  0  7\n",
       " 0  0  8  0  7  2  0  0  5\n",
       " 0  0  0  8  3  0  0  7  0\n",
       " 0  0  5  0  0  0  6  0  0\n",
       " 0  2  0  0  4  7  0  0  0\n",
       " 8  0  0  2  9  0  1  0  0\n",
       " 1  0  0  0  0  8  0  0  0\n",
       " 2  4  0  0  0  0  0  0  0"
      ]
     },
     "execution_count": 4,
     "metadata": {},
     "output_type": "execute_result"
    }
   ],
   "source": [
    "puzzle = [0  0  0  0  0  0  0  9  3;\n",
    "          0  0  0  5  0  0  0  0  7;\n",
    "          0  0  8  0  7  2  0  0  5;\n",
    "          0  0  0  8  3  0  0  7  0;\n",
    "          0  0  5  0  0  0  6  0  0;\n",
    "          0  2  0  0  4  7  0  0  0;\n",
    "          8  0  0  2  9  0  1  0  0;\n",
    "          1  0  0  0  0  8  0  0  0;\n",
    "          2  4  0  0  0  0  0  0  0;]"
   ]
  },
  {
   "cell_type": "code",
   "execution_count": 5,
   "metadata": {},
   "outputs": [
    {
     "name": "stdout",
     "output_type": "stream",
     "text": [
      "Energy: 17\n",
      "Temperature: 0.5268894242312594\n",
      "Move nr: 100000\n",
      "Energy: 22\n",
      "Temperature: 3.9625805017970963\n",
      "Move nr: 200000\n",
      "Energy: 42\n",
      "Temperature: 1.4855556379786972\n",
      "Move nr: 300000\n",
      "Energy: 7\n",
      "Temperature: 0.3129177232685785\n",
      "Move nr: 400000\n",
      "Energy: 13\n",
      "Temperature: 0.7509097265442559\n",
      "Move nr: 500000\n",
      "Energy: 38\n",
      "Temperature: 0.04962825394558701\n",
      "Move nr: 600000\n",
      "Energy: 19\n",
      "Temperature: 3.925914972624258\n",
      "Move nr: 700000\n",
      "Energy: 12\n",
      "Temperature: 0.777677479207274\n",
      "Move nr: 800000\n",
      "Energy: 10\n",
      "Temperature: 1.3257101094807675\n",
      "Move nr: 900000\n",
      "Energy: 57\n",
      "Temperature: 3.2291685802964176\n",
      "Move nr: 1000000\n",
      "Energy: 37\n",
      "Temperature: 0.04650376893864472\n",
      "Move nr: 1100000\n",
      "Energy: 9\n",
      "Temperature: 1.5815815808460396\n",
      "Move nr: 1200000\n",
      "Energy: 55\n",
      "Temperature: 2.722309495163218\n",
      "Move nr: 1300000\n",
      "Energy: 16\n",
      "Temperature: 1.4095020077779248\n",
      "Move nr: 1400000\n",
      "Energy: 9\n",
      "Temperature: 2.215377368203086\n",
      "Move nr: 1500000\n",
      "Energy: 40\n",
      "Temperature: 0.8568726950122754\n",
      "Move nr: 1600000\n",
      "Energy: 50\n",
      "Temperature: 0.7160136390106424\n",
      "Move nr: 1700000\n",
      "Energy: 12\n",
      "Temperature: 2.134241629216424\n",
      "Move nr: 1800000\n",
      "Energy: 26\n",
      "Temperature: 0.6293070291540437\n",
      "Move nr: 1900000\n",
      "Energy: 54\n",
      "Temperature: 2.1824936007511955\n",
      "Move nr: 2000000\n",
      "Energy: 27\n",
      "Temperature: 0.912155357220144\n",
      "Move nr: 2100000\n",
      "Energy: 19\n",
      "Temperature: 3.4882647536267806\n",
      "Move nr: 2200000\n",
      "Energy: 24\n",
      "Temperature: 0.8023002658444387\n",
      "Move nr: 2300000\n",
      "Energy: 32\n",
      "Temperature: 3.6675904775339045\n",
      "Move nr: 2400000\n",
      "Energy: 27\n",
      "Temperature: 1.5992736336769002\n",
      "Move nr: 2500000\n",
      "Energy: 21\n",
      "Temperature: 1.8570859599352911\n",
      "Move nr: 2600000\n",
      "Energy: 37\n",
      "Temperature: 2.197481299197867\n",
      "Move nr: 2700000\n",
      "Energy: 53\n",
      "Temperature: 2.213550117754062\n",
      "Move nr: 2800000\n",
      "Energy: 20\n",
      "Temperature: 1.6744831958554036\n",
      "Move nr: 2900000\n",
      "Energy: 0\n",
      "Finished on move nr: 2936620\n"
     ]
    },
    {
     "data": {
      "text/plain": [
       "615056-element Array{Any,1}:\n",
       " SudokuState([0 0 … 9 3; 0 0 … 0 7; … ; 1 0 … 0 0; 2 4 … 0 0], 564)\n",
       " SudokuState([3 4 … 9 3; 2 7 … 8 7; … ; 1 3 … 5 6; 2 4 … 3 2], 219)\n",
       " SudokuState([3 4 … 9 3; 2 7 … 8 7; … ; 1 3 … 5 6; 2 4 … 3 2], 209)\n",
       " SudokuState([3 4 … 9 3; 2 7 … 8 7; … ; 1 3 … 5 6; 2 4 … 3 2], 193)\n",
       " SudokuState([3 4 … 9 3; 2 7 … 8 7; … ; 1 3 … 5 6; 2 4 … 3 2], 191)\n",
       " SudokuState([3 4 … 9 3; 2 7 … 8 7; … ; 1 3 … 5 6; 2 4 … 3 2], 191)\n",
       " SudokuState([3 4 … 9 3; 2 7 … 8 7; … ; 1 3 … 5 6; 2 4 … 3 2], 190)\n",
       " SudokuState([3 4 … 9 3; 2 1 … 8 7; … ; 1 3 … 5 6; 2 4 … 3 2], 189)\n",
       " SudokuState([3 4 … 9 3; 2 1 … 8 7; … ; 1 3 … 5 6; 2 4 … 3 2], 185)\n",
       " SudokuState([3 4 … 9 3; 2 1 … 8 7; … ; 1 3 … 5 6; 2 4 … 7 2], 185)\n",
       " SudokuState([3 4 … 9 3; 2 1 … 8 7; … ; 1 3 … 5 6; 2 4 … 7 2], 185)\n",
       " SudokuState([3 4 … 9 3; 5 1 … 8 7; … ; 1 3 … 5 6; 2 4 … 7 2], 178)\n",
       " SudokuState([3 4 … 9 3; 5 1 … 8 7; … ; 1 3 … 5 6; 2 4 … 7 2], 178)\n",
       " ⋮                                                                 \n",
       " SudokuState([5 7 … 9 3; 3 1 … 6 7; … ; 1 3 … 3 9; 2 4 … 5 6], 29) \n",
       " SudokuState([5 7 … 9 3; 3 1 … 6 7; … ; 1 3 … 3 9; 2 4 … 5 6], 29) \n",
       " SudokuState([5 7 … 9 3; 3 1 … 6 7; … ; 1 3 … 3 9; 2 4 … 5 6], 26) \n",
       " SudokuState([5 7 … 9 3; 3 1 … 6 7; … ; 1 3 … 3 9; 2 4 … 5 6], 26) \n",
       " SudokuState([5 7 … 9 3; 3 1 … 6 7; … ; 1 3 … 3 9; 2 4 … 5 6], 26) \n",
       " SudokuState([5 7 … 9 3; 3 1 … 6 7; … ; 1 3 … 3 9; 2 4 … 5 6], 26) \n",
       " SudokuState([5 7 … 9 3; 3 1 … 6 7; … ; 1 3 … 3 9; 2 4 … 5 6], 26) \n",
       " SudokuState([5 7 … 9 3; 3 1 … 6 7; … ; 1 3 … 2 9; 2 4 … 5 6], 20) \n",
       " SudokuState([5 7 … 9 3; 3 1 … 6 7; … ; 1 3 … 2 9; 2 4 … 5 6], 20) \n",
       " SudokuState([5 7 … 9 3; 3 1 … 6 7; … ; 1 3 … 2 9; 2 4 … 5 6], 20) \n",
       " SudokuState([5 7 … 9 3; 3 1 … 6 7; … ; 1 3 … 2 9; 2 4 … 5 6], 14) \n",
       " SudokuState([5 7 … 9 3; 3 1 … 6 7; … ; 1 3 … 2 9; 2 4 … 5 8], 0)  "
      ]
     },
     "execution_count": 5,
     "metadata": {},
     "output_type": "execute_result"
    }
   ],
   "source": [
    "states = mc_solve(puzzle, 0.35, 100)"
   ]
  },
  {
   "cell_type": "code",
   "execution_count": 6,
   "metadata": {},
   "outputs": [
    {
     "data": {
      "text/plain": [
       "9×9 Array{Int64,2}:\n",
       " 5  7  2  1  6  4  8  9  3\n",
       " 3  1  4  5  8  9  2  6  7\n",
       " 6  9  8  3  7  2  4  1  5\n",
       " 4  6  1  8  3  5  9  7  2\n",
       " 7  8  5  9  2  1  6  3  4\n",
       " 9  2  3  6  4  7  5  8  1\n",
       " 8  5  7  2  9  3  1  4  6\n",
       " 1  3  6  4  5  8  7  2  9\n",
       " 2  4  9  7  1  6  3  5  8"
      ]
     },
     "execution_count": 6,
     "metadata": {},
     "output_type": "execute_result"
    }
   ],
   "source": [
    "states[end].puzzle"
   ]
  },
  {
   "cell_type": "code",
   "execution_count": 7,
   "metadata": {},
   "outputs": [
    {
     "data": {
      "text/plain": [
       "9×9 Array{Int64,2}:\n",
       " 0  0  1  0  0  0  0  0  5\n",
       " 0  5  0  0  0  9  0  6  3\n",
       " 0  4  0  5  2  0  0  0  0\n",
       " 0  0  0  0  5  0  7  0  0\n",
       " 0  0  0  1  6  2  0  0  0\n",
       " 0  0  9  0  3  0  0  0  0\n",
       " 0  0  0  0  1  3  0  2  0\n",
       " 8  9  0  2  0  0  0  7  0\n",
       " 2  0  0  0  0  0  8  0  0"
      ]
     },
     "execution_count": 7,
     "metadata": {},
     "output_type": "execute_result"
    }
   ],
   "source": [
    "puzzle = [0  0  1  0  0  0  0  0  5;\n",
    "          0  5  0  0  0  9  0  6  3;\n",
    "          0  4  0  5  2  0  0  0  0;\n",
    "          0  0  0  0  5  0  7  0  0;\n",
    "          0  0  0  1  6  2  0  0  0;\n",
    "          0  0  9  0  3  0  0  0  0;\n",
    "          0  0  0  0  1  3  0  2  0;\n",
    "          8  9  0  2  0  0  0  7  0;\n",
    "          2  0  0  0  0  0  8  0  0;]"
   ]
  },
  {
   "cell_type": "code",
   "execution_count": 8,
   "metadata": {},
   "outputs": [
    {
     "name": "stdout",
     "output_type": "stream",
     "text": [
      "Energy: 18\n",
      "Temperature: 0.09755772560597209\n",
      "Move nr: 100000\n",
      "Energy: 11\n",
      "Temperature: 0.7710009888134659\n",
      "Move nr: 200000\n",
      "Energy: 10\n",
      "Temperature: 0.6934867980504344\n",
      "Move nr: 300000\n",
      "Energy: 39\n",
      "Temperature: 0.9473422995450225\n",
      "Move nr: 400000\n",
      "Energy: 0\n",
      "Finished on move nr: 492637\n"
     ]
    },
    {
     "data": {
      "text/plain": [
       "102419-element Array{Any,1}:\n",
       " SudokuState([0 0 … 0 5; 0 5 … 6 3; … ; 8 9 … 7 0; 2 0 … 0 0], 580)\n",
       " SudokuState([7 6 … 7 5; 9 5 … 6 3; … ; 8 9 … 7 1; 2 6 … 3 9], 250)\n",
       " SudokuState([7 6 … 7 5; 9 5 … 6 3; … ; 8 9 … 7 1; 2 6 … 3 9], 230)\n",
       " SudokuState([7 6 … 7 5; 9 5 … 6 3; … ; 8 9 … 7 1; 2 6 … 3 9], 225)\n",
       " SudokuState([2 6 … 7 5; 9 5 … 6 3; … ; 8 9 … 7 1; 2 6 … 3 9], 216)\n",
       " SudokuState([2 6 … 7 5; 9 5 … 6 3; … ; 8 9 … 7 1; 2 6 … 3 9], 216)\n",
       " SudokuState([2 6 … 7 5; 9 5 … 6 3; … ; 8 9 … 7 1; 2 6 … 3 9], 215)\n",
       " SudokuState([2 6 … 7 5; 9 5 … 6 3; … ; 8 9 … 7 1; 2 6 … 3 9], 215)\n",
       " SudokuState([2 6 … 7 5; 9 5 … 6 3; … ; 8 9 … 7 1; 2 6 … 3 9], 198)\n",
       " SudokuState([2 6 … 7 5; 9 5 … 6 3; … ; 8 9 … 7 1; 2 6 … 3 9], 198)\n",
       " SudokuState([2 6 … 7 5; 9 5 … 6 3; … ; 8 9 … 7 1; 2 6 … 3 9], 198)\n",
       " SudokuState([2 6 … 7 5; 9 5 … 6 3; … ; 8 9 … 7 1; 2 6 … 3 9], 191)\n",
       " SudokuState([2 6 … 7 5; 9 5 … 6 3; … ; 8 9 … 7 1; 2 6 … 3 9], 191)\n",
       " ⋮                                                                 \n",
       " SudokuState([9 8 … 4 5; 7 5 … 6 3; … ; 8 9 … 7 1; 2 1 … 3 4], 3)  \n",
       " SudokuState([9 8 … 4 5; 7 5 … 6 3; … ; 8 9 … 7 1; 2 1 … 3 4], 3)  \n",
       " SudokuState([9 8 … 4 5; 7 5 … 6 3; … ; 8 9 … 7 1; 2 1 … 3 4], 3)  \n",
       " SudokuState([9 8 … 4 5; 7 5 … 6 3; … ; 8 9 … 7 1; 2 1 … 3 4], 3)  \n",
       " SudokuState([9 8 … 4 5; 7 5 … 6 3; … ; 8 9 … 7 1; 2 1 … 3 4], 3)  \n",
       " SudokuState([9 8 … 4 5; 7 5 … 6 3; … ; 8 9 … 7 1; 2 1 … 3 4], 3)  \n",
       " SudokuState([9 8 … 4 5; 7 5 … 6 3; … ; 8 9 … 7 1; 2 1 … 3 4], 3)  \n",
       " SudokuState([9 8 … 4 5; 7 5 … 6 3; … ; 8 9 … 7 1; 2 1 … 3 4], 3)  \n",
       " SudokuState([9 8 … 4 5; 7 5 … 6 3; … ; 8 9 … 7 1; 2 1 … 3 4], 3)  \n",
       " SudokuState([9 8 … 4 5; 7 5 … 6 3; … ; 8 9 … 7 1; 2 1 … 3 4], 3)  \n",
       " SudokuState([9 8 … 4 5; 7 5 … 6 3; … ; 8 9 … 7 1; 2 1 … 3 4], 3)  \n",
       " SudokuState([9 8 … 4 5; 7 5 … 6 3; … ; 8 9 … 7 1; 2 1 … 3 4], 0)  "
      ]
     },
     "execution_count": 8,
     "metadata": {},
     "output_type": "execute_result"
    }
   ],
   "source": [
    "states = mc_solve(puzzle, 0.35, 100)"
   ]
  },
  {
   "cell_type": "code",
   "execution_count": 9,
   "metadata": {},
   "outputs": [
    {
     "data": {
      "text/plain": [
       "9×9 Array{Int64,2}:\n",
       " 9  8  1  3  7  6  2  4  5\n",
       " 7  5  2  4  8  9  1  6  3\n",
       " 3  4  6  5  2  1  9  8  7\n",
       " 6  3  8  9  5  4  7  1  2\n",
       " 5  7  4  1  6  2  3  9  8\n",
       " 1  2  9  7  3  8  4  5  6\n",
       " 4  6  7  8  1  3  5  2  9\n",
       " 8  9  3  2  4  5  6  7  1\n",
       " 2  1  5  6  9  7  8  3  4"
      ]
     },
     "execution_count": 9,
     "metadata": {},
     "output_type": "execute_result"
    }
   ],
   "source": [
    "states[end].puzzle"
   ]
  },
  {
   "cell_type": "code",
   "execution_count": null,
   "metadata": {},
   "outputs": [],
   "source": []
  }
 ],
 "metadata": {
  "kernelspec": {
   "display_name": "Julia 1.0.4",
   "language": "julia",
   "name": "julia-1.0"
  },
  "language_info": {
   "file_extension": ".jl",
   "mimetype": "application/julia",
   "name": "julia",
   "version": "1.0.4"
  }
 },
 "nbformat": 4,
 "nbformat_minor": 2
}
