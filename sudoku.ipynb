{
 "cells": [
  {
   "cell_type": "code",
   "execution_count": 1,
   "metadata": {},
   "outputs": [
    {
     "data": {
      "text/plain": [
       "get_state (generic function with 1 method)"
      ]
     },
     "execution_count": 1,
     "metadata": {},
     "output_type": "execute_result"
    }
   ],
   "source": [
    "include(\"sudoku.jl\")"
   ]
  },
  {
   "cell_type": "code",
   "execution_count": 2,
   "metadata": {},
   "outputs": [
    {
     "data": {
      "text/plain": [
       "@bash_str (macro with 1 method)"
      ]
     },
     "execution_count": 2,
     "metadata": {},
     "output_type": "execute_result"
    }
   ],
   "source": [
    "macro bash_str(s) open(`bash`,\"w\",stdout) do io; print(io, s); end; end"
   ]
  },
  {
   "cell_type": "code",
   "execution_count": 3,
   "metadata": {},
   "outputs": [
    {
     "name": "stdout",
     "output_type": "stream",
     "text": [
      "LICENSE\n",
      "README.md\n",
      "sudoku.ipynb\n",
      "sudoku.jl\n"
     ]
    }
   ],
   "source": [
    "bash\"\"\"\n",
    "ls\n",
    "\"\"\""
   ]
  },
  {
   "cell_type": "code",
   "execution_count": 4,
   "metadata": {},
   "outputs": [
    {
     "data": {
      "text/plain": [
       "9×9 Array{Int64,2}:\n",
       " 0  0  0  0  0  0  0  9  3\n",
       " 0  0  0  5  0  0  0  0  7\n",
       " 0  0  8  0  7  2  0  0  5\n",
       " 0  0  0  8  3  0  0  7  0\n",
       " 0  0  5  0  0  0  6  0  0\n",
       " 0  2  0  0  4  7  0  0  0\n",
       " 8  0  0  2  9  0  1  0  0\n",
       " 1  0  0  0  0  8  0  0  0\n",
       " 2  4  0  0  0  0  0  0  0"
      ]
     },
     "execution_count": 4,
     "metadata": {},
     "output_type": "execute_result"
    }
   ],
   "source": [
    "puzzle = [0  0  0  0  0  0  0  9  3;\n",
    "          0  0  0  5  0  0  0  0  7;\n",
    "          0  0  8  0  7  2  0  0  5;\n",
    "          0  0  0  8  3  0  0  7  0;\n",
    "          0  0  5  0  0  0  6  0  0;\n",
    "          0  2  0  0  4  7  0  0  0;\n",
    "          8  0  0  2  9  0  1  0  0;\n",
    "          1  0  0  0  0  8  0  0  0;\n",
    "          2  4  0  0  0  0  0  0  0;]"
   ]
  },
  {
   "cell_type": "code",
   "execution_count": 5,
   "metadata": {},
   "outputs": [
    {
     "data": {
      "text/plain": [
       "Indices(Any[(1:3, 1:3), (1:3, 4:6), (1:3, 7:9), (4:6, 1:3), (4:6, 4:6), (4:6, 7:9), (7:9, 1:3), (7:9, 4:6), (7:9, 7:9)], Any[(1:9, 1), (1:9, 2), (1:9, 3), (1:9, 4), (1:9, 5), (1:9, 6), (1:9, 7), (1:9, 8), (1:9, 9)], Any[(1, 1:9), (2, 1:9), (3, 1:9), (4, 1:9), (5, 1:9), (6, 1:9), (7, 1:9), (8, 1:9), (9, 1:9)], Dict{Any,Any}((1:3, 4:6)=>Any[(1, 4), (1, 5), (1, 6), (2, 5), (2, 6), (3, 4)],(7:9, 7:9)=>Any[(7, 8), (7, 9), (8, 7), (8, 8), (8, 9), (9, 7), (9, 8), (9, 9)],(7:9, 1:3)=>Any[(7, 2), (7, 3), (8, 2), (8, 3), (9, 3)],(1:3, 7:9)=>Any[(1, 7), (2, 7), (2, 8), (3, 7), (3, 8)],(4:6, 1:3)=>Any[(4, 1), (4, 2), (4, 3), (5, 1), (5, 2), (6, 1), (6, 3)],(1:3, 1:3)=>Any[(1, 1), (1, 2), (1, 3), (2, 1), (2, 2), (2, 3), (3, 1), (3, 2)],(4:6, 4:6)=>Any[(4, 6), (5, 4), (5, 5), (5, 6), (6, 4)],(4:6, 7:9)=>Any[(4, 7), (4, 9), (5, 8), (5, 9), (6, 7), (6, 8), (6, 9)],(7:9, 4:6)=>Any[(7, 6), (8, 4), (8, 5), (9, 4), (9, 5), (9, 6)]), Dict{Any,Any}((1:3, 4:6)=>Any[5, 7, 2],(7:9, 7:9)=>Any[1],(7:9, 1:3)=>Any[8, 1, 2, 4],(1:3, 7:9)=>Any[9, 3, 7, 5],(4:6, 1:3)=>Any[5, 2],(1:3, 1:3)=>Any[8],(4:6, 4:6)=>Any[8, 3, 4, 7],(4:6, 7:9)=>Any[7, 6],(7:9, 4:6)=>Any[2, 9, 8]))"
      ]
     },
     "execution_count": 5,
     "metadata": {},
     "output_type": "execute_result"
    }
   ],
   "source": [
    "indices = get_indices(puzzle)"
   ]
  },
  {
   "cell_type": "code",
   "execution_count": 6,
   "metadata": {},
   "outputs": [
    {
     "data": {
      "text/plain": [
       "9×9 Array{Int64,2}:\n",
       " 0  0  0  0  0  0  0  9  3\n",
       " 0  0  0  5  0  0  0  0  7\n",
       " 0  0  8  0  7  2  0  0  5\n",
       " 0  0  0  8  3  0  0  7  0\n",
       " 0  0  5  0  0  0  6  0  0\n",
       " 0  2  0  0  4  7  0  0  0\n",
       " 8  0  0  2  9  0  1  0  0\n",
       " 1  0  0  0  0  8  0  0  0\n",
       " 2  4  0  0  0  0  0  0  0"
      ]
     },
     "execution_count": 6,
     "metadata": {},
     "output_type": "execute_result"
    }
   ],
   "source": [
    "puzzle"
   ]
  },
  {
   "cell_type": "code",
   "execution_count": 7,
   "metadata": {},
   "outputs": [
    {
     "data": {
      "text/plain": [
       "0-element Array{Any,1}"
      ]
     },
     "execution_count": 7,
     "metadata": {},
     "output_type": "execute_result"
    }
   ],
   "source": [
    "states = []"
   ]
  },
  {
   "cell_type": "code",
   "execution_count": 8,
   "metadata": {},
   "outputs": [
    {
     "data": {
      "text/plain": [
       "SudokuState([0 0 … 9 3; 0 0 … 0 7; … ; 1 0 … 0 0; 2 4 … 0 0], 564)"
      ]
     },
     "execution_count": 8,
     "metadata": {},
     "output_type": "execute_result"
    }
   ],
   "source": [
    "inital_state = get_state(puzzle, indices)"
   ]
  },
  {
   "cell_type": "code",
   "execution_count": 9,
   "metadata": {},
   "outputs": [
    {
     "data": {
      "text/plain": [
       "1-element Array{Any,1}:\n",
       " SudokuState([0 0 … 9 3; 0 0 … 0 7; … ; 1 0 … 0 0; 2 4 … 0 0], 564)"
      ]
     },
     "execution_count": 9,
     "metadata": {},
     "output_type": "execute_result"
    }
   ],
   "source": [
    "push!(states, inital_state)"
   ]
  },
  {
   "cell_type": "code",
   "execution_count": 10,
   "metadata": {},
   "outputs": [
    {
     "data": {
      "text/plain": [
       "SudokuState([6 2 … 9 3; 3 9 … 1 7; … ; 1 3 … 8 4; 2 4 … 6 3], 237)"
      ]
     },
     "execution_count": 10,
     "metadata": {},
     "output_type": "execute_result"
    }
   ],
   "source": [
    "inital_board = initialize_board(inital_state.puzzle, indices)"
   ]
  },
  {
   "cell_type": "code",
   "execution_count": 11,
   "metadata": {},
   "outputs": [
    {
     "data": {
      "text/plain": [
       "9×9 Array{Int64,2}:\n",
       " 0  0  0  0  0  0  0  9  3\n",
       " 0  0  0  5  0  0  0  0  7\n",
       " 0  0  8  0  7  2  0  0  5\n",
       " 0  0  0  8  3  0  0  7  0\n",
       " 0  0  5  0  0  0  6  0  0\n",
       " 0  2  0  0  4  7  0  0  0\n",
       " 8  0  0  2  9  0  1  0  0\n",
       " 1  0  0  0  0  8  0  0  0\n",
       " 2  4  0  0  0  0  0  0  0"
      ]
     },
     "execution_count": 11,
     "metadata": {},
     "output_type": "execute_result"
    }
   ],
   "source": [
    "inital_state.puzzle"
   ]
  },
  {
   "cell_type": "code",
   "execution_count": 12,
   "metadata": {},
   "outputs": [
    {
     "data": {
      "text/plain": [
       "2-element Array{Any,1}:\n",
       " SudokuState([0 0 … 9 3; 0 0 … 0 7; … ; 1 0 … 0 0; 2 4 … 0 0], 564)\n",
       " SudokuState([6 2 … 9 3; 3 9 … 1 7; … ; 1 3 … 8 4; 2 4 … 6 3], 237)"
      ]
     },
     "execution_count": 12,
     "metadata": {},
     "output_type": "execute_result"
    }
   ],
   "source": [
    "push!(states, inital_board)"
   ]
  },
  {
   "cell_type": "code",
   "execution_count": 13,
   "metadata": {},
   "outputs": [
    {
     "name": "stdout",
     "output_type": "stream",
     "text": [
      "1\n",
      "2\n",
      "3\n",
      "4\n",
      "5\n",
      "6\n",
      "7\n",
      "8\n",
      "9\n",
      "10\n"
     ]
    }
   ],
   "source": [
    "i = 0\n",
    "while(i<10)\n",
    "    i += 1\n",
    "    println(i)\n",
    "end"
   ]
  },
  {
   "cell_type": "code",
   "execution_count": 41,
   "metadata": {},
   "outputs": [
    {
     "data": {
      "text/plain": [
       "9×9 Array{Int64,2}:\n",
       " 6  2  7  1  6  8  2  9  3\n",
       " 3  9  1  5  9  3  6  1  7\n",
       " 5  4  8  4  7  2  8  4  5\n",
       " 3  1  9  8  3  6  5  7  1\n",
       " 7  4  5  2  1  9  6  4  3\n",
       " 6  2  8  5  4  7  8  9  2\n",
       " 8  9  7  2  9  1  1  7  2\n",
       " 1  3  6  4  5  8  9  8  4\n",
       " 2  4  5  7  6  3  5  6  3"
      ]
     },
     "execution_count": 41,
     "metadata": {},
     "output_type": "execute_result"
    }
   ],
   "source": [
    "puzzle = inital_board.puzzle"
   ]
  },
  {
   "cell_type": "code",
   "execution_count": 14,
   "metadata": {},
   "outputs": [
    {
     "data": {
      "text/plain": [
       "9"
      ]
     },
     "execution_count": 14,
     "metadata": {},
     "output_type": "execute_result"
    }
   ],
   "source": [
    "length(indices.blocks)"
   ]
  },
  {
   "cell_type": "code",
   "execution_count": 21,
   "metadata": {},
   "outputs": [
    {
     "data": {
      "text/plain": [
       "5-element Array{Tuple{Int64,Int64},1}:\n",
       " (7, 2)\n",
       " (7, 3)\n",
       " (8, 2)\n",
       " (8, 3)\n",
       " (9, 3)"
      ]
     },
     "execution_count": 21,
     "metadata": {},
     "output_type": "execute_result"
    }
   ],
   "source": [
    "(b_i, b_j) = indices.blocks[rand(1:length(indices.blocks))]\n",
    "(c_i, c_j) = rand(1:length(indices.free_cells_pr_block[(b_i, b_j)]), 2)\n"
   ]
  },
  {
   "cell_type": "code",
   "execution_count": 23,
   "metadata": {},
   "outputs": [
    {
     "data": {
      "text/plain": [
       "2-element Array{Int64,1}:\n",
       " 4\n",
       " 5"
      ]
     },
     "execution_count": 23,
     "metadata": {},
     "output_type": "execute_result"
    }
   ],
   "source": [
    "(i, j) = rand(1:length(indices.free_cells_pr_block[(b_i, b_j)]), 2)"
   ]
  },
  {
   "cell_type": "code",
   "execution_count": 42,
   "metadata": {},
   "outputs": [
    {
     "data": {
      "text/plain": [
       "(8, 3)"
      ]
     },
     "execution_count": 42,
     "metadata": {},
     "output_type": "execute_result"
    }
   ],
   "source": [
    "(s1_i, s1_j) = indices.free_cells_pr_block[(b_i, b_j)][i]"
   ]
  },
  {
   "cell_type": "code",
   "execution_count": 43,
   "metadata": {},
   "outputs": [
    {
     "data": {
      "text/plain": [
       "(9, 3)"
      ]
     },
     "execution_count": 43,
     "metadata": {},
     "output_type": "execute_result"
    }
   ],
   "source": [
    "(s2_i, s2_j) = indices.free_cells_pr_block[(b_i, b_j)][j]"
   ]
  },
  {
   "cell_type": "code",
   "execution_count": 44,
   "metadata": {},
   "outputs": [
    {
     "data": {
      "text/plain": [
       "5"
      ]
     },
     "execution_count": 44,
     "metadata": {},
     "output_type": "execute_result"
    }
   ],
   "source": [
    "puzzle[s2_i, s2_j]"
   ]
  },
  {
   "cell_type": "code",
   "execution_count": 45,
   "metadata": {},
   "outputs": [
    {
     "data": {
      "text/plain": [
       "(5, 6)"
      ]
     },
     "execution_count": 45,
     "metadata": {},
     "output_type": "execute_result"
    }
   ],
   "source": [
    "puzzle[s1_i, s1_j], puzzle[s2_i, s2_j] = puzzle[s2_i, s2_j], puzzle[s1_i, s1_j]"
   ]
  },
  {
   "cell_type": "code",
   "execution_count": 49,
   "metadata": {},
   "outputs": [
    {
     "ename": "BoundsError",
     "evalue": "BoundsError: attempt to access 0-element Array{Any,1} at index [0]",
     "output_type": "error",
     "traceback": [
      "BoundsError: attempt to access 0-element Array{Any,1} at index [0]",
      "",
      "Stacktrace:",
      " [1] getindex(::Array{Any,1}, ::Int64) at ./array.jl:731",
      " [2] top-level scope at In[49]:2"
     ]
    }
   ],
   "source": [
    "a = []\n",
    "a[end]"
   ]
  },
  {
   "cell_type": "code",
   "execution_count": 50,
   "metadata": {},
   "outputs": [
    {
     "data": {
      "text/plain": [
       "2-element Array{Any,1}:\n",
       " SudokuState([0 0 … 9 3; 0 0 … 0 7; … ; 1 0 … 0 0; 2 4 … 0 0], 564)\n",
       " SudokuState([6 2 … 9 3; 3 9 … 1 7; … ; 1 3 … 8 4; 2 4 … 6 3], 237)"
      ]
     },
     "execution_count": 50,
     "metadata": {},
     "output_type": "execute_result"
    }
   ],
   "source": [
    "states"
   ]
  },
  {
   "cell_type": "code",
   "execution_count": 78,
   "metadata": {},
   "outputs": [
    {
     "data": {
      "text/plain": [
       "1"
      ]
     },
     "execution_count": 78,
     "metadata": {},
     "output_type": "execute_result"
    }
   ],
   "source": [
    "E_trial = 237\n",
    "E_0 = 564\n",
    "T = 1"
   ]
  },
  {
   "cell_type": "code",
   "execution_count": 79,
   "metadata": {},
   "outputs": [
    {
     "data": {
      "text/plain": [
       "9.676190671336298e-143"
      ]
     },
     "execution_count": 79,
     "metadata": {},
     "output_type": "execute_result"
    }
   ],
   "source": [
    "MathConstants.e^((E_trial-E_0)/T)"
   ]
  },
  {
   "cell_type": "code",
   "execution_count": 58,
   "metadata": {},
   "outputs": [
    {
     "data": {
      "text/plain": [
       "3.27"
      ]
     },
     "execution_count": 58,
     "metadata": {},
     "output_type": "execute_result"
    }
   ],
   "source": [
    "-(E_trial-E_0)/T"
   ]
  },
  {
   "cell_type": "code",
   "execution_count": 60,
   "metadata": {},
   "outputs": [
    {
     "data": {
      "text/plain": [
       "ℯ = 2.7182818284590..."
      ]
     },
     "execution_count": 60,
     "metadata": {},
     "output_type": "execute_result"
    }
   ],
   "source": [
    "MathConstants.e"
   ]
  },
  {
   "cell_type": "code",
   "execution_count": 70,
   "metadata": {},
   "outputs": [
    {
     "data": {
      "text/plain": [
       "1"
      ]
     },
     "execution_count": 70,
     "metadata": {},
     "output_type": "execute_result"
    }
   ],
   "source": [
    "rand(0:1)"
   ]
  },
  {
   "cell_type": "code",
   "execution_count": 77,
   "metadata": {},
   "outputs": [
    {
     "data": {
      "text/plain": [
       "0.04071352201381773"
      ]
     },
     "execution_count": 77,
     "metadata": {},
     "output_type": "execute_result"
    }
   ],
   "source": [
    "rand()"
   ]
  },
  {
   "cell_type": "code",
   "execution_count": 82,
   "metadata": {},
   "outputs": [
    {
     "data": {
      "text/plain": [
       "random_block_swap (generic function with 1 method)"
      ]
     },
     "execution_count": 82,
     "metadata": {},
     "output_type": "execute_result"
    }
   ],
   "source": [
    "function random_block_swap(puzzle, indices)\n",
    "    puzzle = deepcopy(puzzle)\n",
    "    (b_i, b_j) = indices.blocks[rand(1:length(indices.blocks))]\n",
    "    (c_i, c_j) = rand(1:length(indices.free_cells_pr_block[(b_i, b_j)]), 2)\n",
    "    (s1_i, s1_j) = indices.free_cells_pr_block[(b_i, b_j)][c_i]\n",
    "    (s2_i, s2_j) = indices.free_cells_pr_block[(b_i, b_j)][c_j]\n",
    "    puzzle[s1_i, s1_j], puzzle[s2_i, s2_j] = puzzle[s2_i, s2_j], puzzle[s1_i, s1_j]\n",
    "\n",
    "    return puzzle\n",
    "end"
   ]
  },
  {
   "cell_type": "code",
   "execution_count": 80,
   "metadata": {},
   "outputs": [
    {
     "data": {
      "text/plain": [
       "run (generic function with 1 method)"
      ]
     },
     "execution_count": 80,
     "metadata": {},
     "output_type": "execute_result"
    }
   ],
   "source": [
    "function run(states, indices, temp)\n",
    "    state = states[end]\n",
    "\n",
    "    while (state.energy>0)\n",
    "        puzzle = random_block_swap(state.puzzle, indices)\n",
    "        energy = get_energy(puzzle, indices)\n",
    "\n",
    "        energy_diff = energy - state.energy\n",
    "\n",
    "        if MathConstants.e^(energy_diff/temp) < rand()\n",
    "            new_state = get_state(puzzle, energy)\n",
    "            push!(states, new_state)\n",
    "            state = new_state\n",
    "        end\n",
    "    end\n",
    "    \n",
    "    return state\n",
    "end"
   ]
  },
  {
   "cell_type": "code",
   "execution_count": 83,
   "metadata": {},
   "outputs": [
    {
     "ename": "ErrorException",
     "evalue": "type Int64 has no field columns",
     "output_type": "error",
     "traceback": [
      "type Int64 has no field columns",
      "",
      "Stacktrace:",
      " [1] getproperty(::Any, ::Symbol) at ./sysimg.jl:18",
      " [2] get_energy(::Array{Int64,2}, ::Int64) at /home/kimle/work/sudoku/sudoku.jl:86",
      " [3] get_state(::Array{Int64,2}, ::Int64) at /home/kimle/work/sudoku/sudoku.jl:94",
      " [4] run(::Array{Any,1}, ::Indices, ::Int64) at ./In[80]:11",
      " [5] top-level scope at In[83]:1"
     ]
    }
   ],
   "source": [
    "run(states, indices, 1)"
   ]
  },
  {
   "cell_type": "code",
   "execution_count": 84,
   "metadata": {},
   "outputs": [
    {
     "data": {
      "text/plain": [
       "9×9 Array{Int64,2}:\n",
       " 5  7  2  1  6  4  8  9  3\n",
       " 3  1  4  5  8  9  2  6  7\n",
       " 6  9  8  3  7  2  4  1  5\n",
       " 4  6  1  8  3  5  9  7  2\n",
       " 7  8  5  9  2  1  6  3  4\n",
       " 9  2  3  6  4  7  5  8  1\n",
       " 8  5  7  2  9  3  1  4  6\n",
       " 1  3  6  4  5  8  7  2  9\n",
       " 2  4  9  7  1  6  3  5  8"
      ]
     },
     "execution_count": 84,
     "metadata": {},
     "output_type": "execute_result"
    }
   ],
   "source": [
    "puzzle2 = [5 7 2 1 6 4 8 9 3; \n",
    "  3 1 4 5 8 9 2 6 7; \n",
    "  6 9 8 3 7 2 4 1 5; \n",
    "  4 6 1 8 3 5 9 7 2; \n",
    "  7 8 5 9 2 1 6 3 4; \n",
    "  9 2 3 6 4 7 5 8 1; \n",
    "  8 5 7 2 9 3 1 4 6; \n",
    "  1 3 6 4 5 8 7 2 9; \n",
    "  2 4 9 7 1 6 3 5 8;]"
   ]
  },
  {
   "cell_type": "code",
   "execution_count": 85,
   "metadata": {},
   "outputs": [
    {
     "data": {
      "text/plain": [
       "SudokuState([5 7 … 9 3; 3 1 … 6 7; … ; 1 3 … 2 9; 2 4 … 5 8], 0)"
      ]
     },
     "execution_count": 85,
     "metadata": {},
     "output_type": "execute_result"
    }
   ],
   "source": [
    "get_state(puzzle2, indices)"
   ]
  },
  {
   "cell_type": "code",
   "execution_count": 95,
   "metadata": {},
   "outputs": [
    {
     "data": {
      "text/plain": [
       "1"
      ]
     },
     "execution_count": 95,
     "metadata": {},
     "output_type": "execute_result"
    }
   ],
   "source": [
    "rand(1:3)"
   ]
  },
  {
   "cell_type": "code",
   "execution_count": null,
   "metadata": {},
   "outputs": [],
   "source": []
  }
 ],
 "metadata": {
  "kernelspec": {
   "display_name": "Julia 1.0.4",
   "language": "julia",
   "name": "julia-1.0"
  },
  "language_info": {
   "file_extension": ".jl",
   "mimetype": "application/julia",
   "name": "julia",
   "version": "1.0.4"
  }
 },
 "nbformat": 4,
 "nbformat_minor": 2
}
