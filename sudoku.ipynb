{
 "cells": [
  {
   "cell_type": "code",
   "execution_count": null,
   "metadata": {},
   "outputs": [],
   "source": [
    "include(\"sudoku.jl\")"
   ]
  },
  {
   "cell_type": "code",
   "execution_count": null,
   "metadata": {},
   "outputs": [],
   "source": [
    "macro bash_str(s) open(`bash`,\"w\",stdout) do io; print(io, s); end; end"
   ]
  },
  {
   "cell_type": "code",
   "execution_count": null,
   "metadata": {},
   "outputs": [],
   "source": [
    "bash\"\"\"\n",
    "ls\n",
    "\"\"\""
   ]
  },
  {
   "cell_type": "code",
   "execution_count": null,
   "metadata": {},
   "outputs": [],
   "source": [
    "puzzle = [0  0  0  0  0  0  0  9  3;\n",
    "          0  0  0  5  0  0  0  0  7;\n",
    "          0  0  8  0  7  2  0  0  5;\n",
    "          0  0  0  8  3  0  0  7  0;\n",
    "          0  0  5  0  0  0  6  0  0;\n",
    "          0  2  0  0  4  7  0  0  0;\n",
    "          8  0  0  2  9  0  1  0  0;\n",
    "          1  0  0  0  0  8  0  0  0;\n",
    "          2  4  0  0  0  0  0  0  0;]"
   ]
  },
  {
   "cell_type": "code",
   "execution_count": null,
   "metadata": {},
   "outputs": [],
   "source": [
    "states = mc_solve(puzzle, 0.45)"
   ]
  },
  {
   "cell_type": "code",
   "execution_count": null,
   "metadata": {},
   "outputs": [],
   "source": [
    "states[end].puzzle"
   ]
  },
  {
   "cell_type": "code",
   "execution_count": null,
   "metadata": {},
   "outputs": [],
   "source": [
    "puzzle = [0  0  1  0  0  0  0  0  5;\n",
    "          0  5  0  0  0  9  0  6  3;\n",
    "          0  4  0  5  2  0  0  0  0;\n",
    "          0  0  0  0  5  0  7  0  0;\n",
    "          0  0  0  1  6  2  0  0  0;\n",
    "          0  0  9  0  3  0  0  0  0;\n",
    "          0  0  0  0  1  3  0  2  0;\n",
    "          8  9  0  2  0  0  0  7  0;\n",
    "          2  0  0  0  0  0  8  0  0;]"
   ]
  },
  {
   "cell_type": "code",
   "execution_count": null,
   "metadata": {},
   "outputs": [],
   "source": [
    "states = mc_solve(puzzle, 0.45)"
   ]
  },
  {
   "cell_type": "code",
   "execution_count": null,
   "metadata": {},
   "outputs": [],
   "source": [
    "states[end].puzzle"
   ]
  },
  {
   "cell_type": "code",
   "execution_count": null,
   "metadata": {},
   "outputs": [],
   "source": []
  }
 ],
 "metadata": {
  "kernelspec": {
   "display_name": "Julia 1.0.4",
   "language": "julia",
   "name": "julia-1.0"
  },
  "language_info": {
   "file_extension": ".jl",
   "mimetype": "application/julia",
   "name": "julia",
   "version": "1.0.4"
  }
 },
 "nbformat": 4,
 "nbformat_minor": 2
}
