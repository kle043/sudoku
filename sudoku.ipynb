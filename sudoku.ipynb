{
 "cells": [
  {
   "cell_type": "code",
   "execution_count": 2,
   "metadata": {},
   "outputs": [],
   "source": [
    "using Distributed\n",
    "@everywhere include_string(Main, $(read(\"distributed_sudoku.jl\", String)), \"distributed_sudoku.jl\")"
   ]
  },
  {
   "cell_type": "code",
   "execution_count": 3,
   "metadata": {},
   "outputs": [
    {
     "data": {
      "text/plain": [
       "@bash_str (macro with 1 method)"
      ]
     },
     "execution_count": 3,
     "metadata": {},
     "output_type": "execute_result"
    }
   ],
   "source": [
    "macro bash_str(s) open(`bash`,\"w\",stdout) do io; print(io, s); end; end"
   ]
  },
  {
   "cell_type": "code",
   "execution_count": 4,
   "metadata": {},
   "outputs": [
    {
     "name": "stdout",
     "output_type": "stream",
     "text": [
      "distributed_sudoku.jl\n",
      "LICENSE\n",
      "README.md\n",
      "sudoku.ipynb\n",
      "sudoku.jl\n"
     ]
    }
   ],
   "source": [
    "bash\"\"\"\n",
    "ls\n",
    "\"\"\""
   ]
  },
  {
   "cell_type": "code",
   "execution_count": 5,
   "metadata": {},
   "outputs": [
    {
     "data": {
      "text/plain": [
       "9×9 Array{Int64,2}:\n",
       " 0  0  0  0  0  0  0  9  3\n",
       " 0  0  0  5  0  0  0  0  7\n",
       " 0  0  8  0  7  2  0  0  5\n",
       " 0  0  0  8  3  0  0  7  0\n",
       " 0  0  5  0  0  0  6  0  0\n",
       " 0  2  0  0  4  7  0  0  0\n",
       " 8  0  0  2  9  0  1  0  0\n",
       " 1  0  0  0  0  8  0  0  0\n",
       " 2  4  0  0  0  0  0  0  0"
      ]
     },
     "execution_count": 5,
     "metadata": {},
     "output_type": "execute_result"
    }
   ],
   "source": [
    "puzzle = [0  0  0  0  0  0  0  9  3;\n",
    "          0  0  0  5  0  0  0  0  7;\n",
    "          0  0  8  0  7  2  0  0  5;\n",
    "          0  0  0  8  3  0  0  7  0;\n",
    "          0  0  5  0  0  0  6  0  0;\n",
    "          0  2  0  0  4  7  0  0  0;\n",
    "          8  0  0  2  9  0  1  0  0;\n",
    "          1  0  0  0  0  8  0  0  0;\n",
    "          2  4  0  0  0  0  0  0  0;]"
   ]
  },
  {
   "cell_type": "code",
   "execution_count": 6,
   "metadata": {},
   "outputs": [
    {
     "name": "stdout",
     "output_type": "stream",
     "text": [
      "Using 1 workers\n"
     ]
    },
    {
     "ename": "ErrorException",
     "evalue": "type RemoteException has no field energy",
     "output_type": "error",
     "traceback": [
      "type RemoteException has no field energy",
      "",
      "Stacktrace:",
      " [1] getproperty(::Any, ::Symbol) at ./sysimg.jl:18",
      " [2] (::getfield(Main, Symbol(\"##12#14\")))(::RemoteException) at ./none:0",
      " [3] iterate at ./generator.jl:47 [inlined]",
      " [4] collect(::Base.Generator{Array{RemoteException,1},getfield(Main, Symbol(\"##12#14\"))}) at ./array.jl:619",
      " [5] distributed_run(::Array{Any,1}, ::Indices, ::Float64, ::Int64) at ./distributed_sudoku.jl:15",
      " [6] mc_solve(::Array{Int64,2}, ::Float64, ::Int64) at ./distributed_sudoku.jl:33",
      " [7] top-level scope at util.jl:156",
      " [8] top-level scope at In[6]:1"
     ]
    }
   ],
   "source": [
    "@time states = mc_solve(puzzle, 0.35, 100)"
   ]
  },
  {
   "cell_type": "code",
   "execution_count": null,
   "metadata": {},
   "outputs": [],
   "source": [
    "states[end].puzzle"
   ]
  },
  {
   "cell_type": "code",
   "execution_count": null,
   "metadata": {},
   "outputs": [],
   "source": [
    "puzzle = [0  0  1  0  0  0  0  0  5;\n",
    "          0  5  0  0  0  9  0  6  3;\n",
    "          0  4  0  5  2  0  0  0  0;\n",
    "          0  0  0  0  5  0  7  0  0;\n",
    "          0  0  0  1  6  2  0  0  0;\n",
    "          0  0  9  0  3  0  0  0  0;\n",
    "          0  0  0  0  1  3  0  2  0;\n",
    "          8  9  0  2  0  0  0  7  0;\n",
    "          2  0  0  0  0  0  8  0  0;]"
   ]
  },
  {
   "cell_type": "code",
   "execution_count": null,
   "metadata": {},
   "outputs": [],
   "source": [
    "@time states = mc_solve(puzzle, 0.35, 100)"
   ]
  },
  {
   "cell_type": "code",
   "execution_count": null,
   "metadata": {},
   "outputs": [],
   "source": [
    "states[end].puzzle"
   ]
  },
  {
   "cell_type": "code",
   "execution_count": null,
   "metadata": {},
   "outputs": [],
   "source": [
    "puzzle = [8  0  0  0  0  0  0  0  0;\n",
    "          0  0  3  6  0  0  0  0  0;\n",
    "          0  7  0  0  9  0  2  0  0;\n",
    "          0  5  0  0  0  7  0  0  0;\n",
    "          0  0  0  0  4  5  7  0  0;\n",
    "          0  0  0  1  0  0  0  3  0;\n",
    "          0  0  1  0  0  0  0  6  8;\n",
    "          0  0  8  5  0  0  0  1  0;\n",
    "          0  9  0  0  0  0  4  0  0;]"
   ]
  },
  {
   "cell_type": "code",
   "execution_count": null,
   "metadata": {},
   "outputs": [],
   "source": [
    "@time states = mc_solve(puzzle, 0.35, 125)"
   ]
  },
  {
   "cell_type": "code",
   "execution_count": null,
   "metadata": {},
   "outputs": [],
   "source": [
    "states[end].puzzle"
   ]
  },
  {
   "cell_type": "code",
   "execution_count": null,
   "metadata": {},
   "outputs": [],
   "source": [
    "puzzle = [1 0 0 0 0 7 0 9 0;\n",
    "          0 3 0 0 2 0 0 0 8;\n",
    "          0 0 9 6 0 0 5 0 0;\n",
    "          0 0 5 3 0 0 9 0 0;\n",
    "          0 1 0 0 8 0 0 0 2;\n",
    "          6 0 0 0 0 4 0 0 0;\n",
    "          3 0 0 0 0 0 0 1 0;\n",
    "          0 4 0 0 0 0 0 0 7;\n",
    "          0 0 7 0 0 0 3 0 0;]"
   ]
  },
  {
   "cell_type": "code",
   "execution_count": null,
   "metadata": {},
   "outputs": [],
   "source": [
    "@time states = mc_solve(puzzle, 0.35, 125)"
   ]
  },
  {
   "cell_type": "code",
   "execution_count": null,
   "metadata": {},
   "outputs": [],
   "source": [
    "states[end].puzzle"
   ]
  },
  {
   "cell_type": "code",
   "execution_count": null,
   "metadata": {},
   "outputs": [],
   "source": [
    "puzzle = [0 0 0 0 0 0 0 3 9;\n",
    "          0 0 0 0 1 0 0 0 5;\n",
    "          0 0 3 0 0 5 8 0 0;\n",
    "          0 0 8 0 0 9 0 0 6;\n",
    "          0 7 0 0 2 0 0 0 0;\n",
    "          1 0 0 4 0 0 0 0 0;\n",
    "          0 0 9 0 0 8 0 5 0;\n",
    "          0 2 0 0 0 0 6 0 0;\n",
    "          4 0 0 7 0 0 0 0 0;]"
   ]
  },
  {
   "cell_type": "code",
   "execution_count": null,
   "metadata": {},
   "outputs": [],
   "source": [
    "states = mc_solve(puzzle, 0.35, 125)"
   ]
  },
  {
   "cell_type": "code",
   "execution_count": null,
   "metadata": {},
   "outputs": [],
   "source": [
    "states[end].puzzle"
   ]
  },
  {
   "cell_type": "code",
   "execution_count": null,
   "metadata": {},
   "outputs": [],
   "source": []
  }
 ],
 "metadata": {
  "kernelspec": {
   "display_name": "Julia 1.0.4",
   "language": "julia",
   "name": "julia-1.0"
  },
  "language_info": {
   "file_extension": ".jl",
   "mimetype": "application/julia",
   "name": "julia",
   "version": "1.0.4"
  }
 },
 "nbformat": 4,
 "nbformat_minor": 2
}
